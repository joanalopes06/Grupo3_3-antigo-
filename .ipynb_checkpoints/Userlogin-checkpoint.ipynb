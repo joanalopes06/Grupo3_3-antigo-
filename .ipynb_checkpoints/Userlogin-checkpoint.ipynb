{
 "cells": [
  {
   "cell_type": "code",
   "execution_count": 1,
   "id": "2d4cc7dc-93be-4545-822d-9af70e43bf82",
   "metadata": {},
   "outputs": [],
   "source": [
    "import sqlite3\n"
   ]
  },
  {
   "cell_type": "code",
   "execution_count": 9,
   "id": "9bcb1897-ed44-46de-85e8-6e6b618382d1",
   "metadata": {},
   "outputs": [],
   "source": [
    "conn = sqlite3.connect('Grupo3_3/data/Grupo3.db')\n",
    "\n",
    "cursor = conn.cursor()"
   ]
  },
  {
   "cell_type": "code",
   "execution_count": 11,
   "id": "2ad013b0-954e-4878-b1a7-a4487d43e36a",
   "metadata": {},
   "outputs": [
    {
     "data": {
      "text/plain": [
       "<sqlite3.Cursor at 0x204e20ea940>"
      ]
     },
     "execution_count": 11,
     "metadata": {},
     "output_type": "execute_result"
    }
   ],
   "source": [
    "cursor.execute('''\n",
    "CREATE TABLE IF NOT EXISTS Userlogin (\n",
    "    id TEXT PRIMARY KEY,\n",
    "    password TEXT NOT NULL,\n",
    "    role TEXT NOT NULL\n",
    ")\n",
    "''')"
   ]
  },
  {
   "cell_type": "code",
   "execution_count": 13,
   "id": "6251e576-e6e1-4df3-85a2-023223bb0306",
   "metadata": {},
   "outputs": [
    {
     "data": {
      "text/plain": [
       "<sqlite3.Cursor at 0x204e20ea940>"
      ]
     },
     "execution_count": 13,
     "metadata": {},
     "output_type": "execute_result"
    }
   ],
   "source": [
    "cursor.executemany('''\n",
    "INSERT OR IGNORE INTO Userlogin (id, password, role)\n",
    "VALUES (?, ?, ?)\n",
    "''', [\n",
    "    ('admin', 'admin123', 'admin'),\n",
    "    ('joana', 'joana456', 'player'),\n",
    "    ('maria', '1234', 'player')\n",
    "])"
   ]
  },
  {
   "cell_type": "code",
   "execution_count": 15,
   "id": "8117347b-4b21-4032-9f9e-92f2b60449c6",
   "metadata": {},
   "outputs": [],
   "source": [
    "conn.commit()\n",
    "conn.close()"
   ]
  },
  {
   "cell_type": "code",
   "execution_count": 17,
   "id": "cdd86a0e-0bb1-4aa7-bfeb-63759558b6f3",
   "metadata": {},
   "outputs": [
    {
     "name": "stdout",
     "output_type": "stream",
     "text": [
      "Tabela Userlogin criada com sucesso!\n"
     ]
    }
   ],
   "source": [
    "print(\"Tabela Userlogin criada com sucesso!\")"
   ]
  },
  {
   "cell_type": "code",
   "execution_count": null,
   "id": "87297c51-f0c5-492f-a2d1-17813872561e",
   "metadata": {},
   "outputs": [],
   "source": []
  }
 ],
 "metadata": {
  "kernelspec": {
   "display_name": "Python [conda env:base] *",
   "language": "python",
   "name": "conda-base-py"
  },
  "language_info": {
   "codemirror_mode": {
    "name": "ipython",
    "version": 3
   },
   "file_extension": ".py",
   "mimetype": "text/x-python",
   "name": "python",
   "nbconvert_exporter": "python",
   "pygments_lexer": "ipython3",
   "version": "3.12.7"
  }
 },
 "nbformat": 4,
 "nbformat_minor": 5
}
