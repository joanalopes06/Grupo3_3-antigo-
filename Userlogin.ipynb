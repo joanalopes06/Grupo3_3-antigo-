{
 "cells": [
  {
   "cell_type": "code",
   "execution_count": 19,
   "id": "2d4cc7dc-93be-4545-822d-9af70e43bf82",
   "metadata": {},
   "outputs": [
    {
     "name": "stdout",
     "output_type": "stream",
     "text": [
      "Tabela Userlogin criada com sucesso!\n"
     ]
    }
   ],
   "source": [
    "import sqlite3\n",
    "conn = sqlite3.connect('Grupo3_3/data/Grupo3.db')\n",
    "\n",
    "cursor = conn.cursor()\n",
    "cursor.execute('''\n",
    "CREATE TABLE IF NOT EXISTS Userlogin (\n",
    "    id TEXT PRIMARY KEY,\n",
    "    password TEXT NOT NULL,\n",
    "    role TEXT NOT NULL\n",
    ")\n",
    "''')\n",
    "\n",
    "# Inserir utilizadores de teste\n",
    "cursor.executemany('''\n",
    "INSERT OR IGNORE INTO Userlogin (id, password, role)\n",
    "VALUES (?, ?, ?)\n",
    "''', [\n",
    "    ('admin', 'admin123', 'admin'),\n",
    "    ('joana', 'joana456', 'player'),\n",
    "    ('maria', '1234', 'player')\n",
    "])\n",
    "\n",
    "conn.commit()\n",
    "conn.close()\n",
    "\n",
    "print(\"Tabela Userlogin criada com sucesso!\")"
   ]
  },
  {
   "cell_type": "code",
   "execution_count": null,
   "id": "de185be3-dd7c-4730-ae04-4a43e2d7a7bc",
   "metadata": {},
   "outputs": [],
   "source": []
  }
 ],
 "metadata": {
  "kernelspec": {
   "display_name": "Python [conda env:base] *",
   "language": "python",
   "name": "conda-base-py"
  },
  "language_info": {
   "codemirror_mode": {
    "name": "ipython",
    "version": 3
   },
   "file_extension": ".py",
   "mimetype": "text/x-python",
   "name": "python",
   "nbconvert_exporter": "python",
   "pygments_lexer": "ipython3",
   "version": "3.12.7"
  }
 },
 "nbformat": 4,
 "nbformat_minor": 5
}
