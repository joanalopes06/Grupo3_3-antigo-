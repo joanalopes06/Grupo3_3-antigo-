{
 "cells": [
  {
   "cell_type": "code",
   "execution_count": 1794,
   "id": "86525543-6d26-4e79-97ec-8bc7adb043b7",
   "metadata": {},
   "outputs": [],
   "source": [
    "import pandas as pd"
   ]
  },
  {
   "cell_type": "code",
   "execution_count": 1796,
   "id": "3377031e-15c8-418c-8967-4ac5b264ea72",
   "metadata": {},
   "outputs": [],
   "source": [
    "df = pd.read_csv('g13_gaming_players_games_with_tournaments_merged.csv', sep=\";\")"
   ]
  },
  {
   "cell_type": "code",
   "execution_count": 1798,
   "id": "7994c515-d258-4247-b9ed-9b7da77edd11",
   "metadata": {},
   "outputs": [
    {
     "data": {
      "text/html": [
       "<div>\n",
       "<style scoped>\n",
       "    .dataframe tbody tr th:only-of-type {\n",
       "        vertical-align: middle;\n",
       "    }\n",
       "\n",
       "    .dataframe tbody tr th {\n",
       "        vertical-align: top;\n",
       "    }\n",
       "\n",
       "    .dataframe thead th {\n",
       "        text-align: right;\n",
       "    }\n",
       "</style>\n",
       "<table border=\"1\" class=\"dataframe\">\n",
       "  <thead>\n",
       "    <tr style=\"text-align: right;\">\n",
       "      <th></th>\n",
       "      <th>players_id</th>\n",
       "      <th>games_id</th>\n",
       "      <th>session_date</th>\n",
       "      <th>score</th>\n",
       "      <th>username</th>\n",
       "      <th>level</th>\n",
       "      <th>join_date</th>\n",
       "      <th>title</th>\n",
       "      <th>genre</th>\n",
       "      <th>release_date</th>\n",
       "      <th>tournaments_id</th>\n",
       "      <th>tournament_name</th>\n",
       "      <th>prize_pool</th>\n",
       "    </tr>\n",
       "  </thead>\n",
       "  <tbody>\n",
       "    <tr>\n",
       "      <th>0</th>\n",
       "      <td>1663</td>\n",
       "      <td>165</td>\n",
       "      <td>26/01/2025</td>\n",
       "      <td>523</td>\n",
       "      <td>fullersamantha</td>\n",
       "      <td>70</td>\n",
       "      <td>28/01/2025</td>\n",
       "      <td>center</td>\n",
       "      <td>Strategy</td>\n",
       "      <td>27/09/2010</td>\n",
       "      <td>4</td>\n",
       "      <td>seat</td>\n",
       "      <td>86681</td>\n",
       "    </tr>\n",
       "    <tr>\n",
       "      <th>1</th>\n",
       "      <td>1298</td>\n",
       "      <td>21</td>\n",
       "      <td>11/02/2025</td>\n",
       "      <td>916</td>\n",
       "      <td>todd18</td>\n",
       "      <td>45</td>\n",
       "      <td>07/02/2025</td>\n",
       "      <td>trip</td>\n",
       "      <td>Sports</td>\n",
       "      <td>02/11/2000</td>\n",
       "      <td>47</td>\n",
       "      <td>argue</td>\n",
       "      <td>74092</td>\n",
       "    </tr>\n",
       "    <tr>\n",
       "      <th>2</th>\n",
       "      <td>198</td>\n",
       "      <td>39</td>\n",
       "      <td>09/02/2025</td>\n",
       "      <td>861</td>\n",
       "      <td>stephen00</td>\n",
       "      <td>8</td>\n",
       "      <td>30/01/2025</td>\n",
       "      <td>company</td>\n",
       "      <td>Sports</td>\n",
       "      <td>28/01/2011</td>\n",
       "      <td>17</td>\n",
       "      <td>film</td>\n",
       "      <td>4319</td>\n",
       "    </tr>\n",
       "  </tbody>\n",
       "</table>\n",
       "</div>"
      ],
      "text/plain": [
       "   players_id  games_id session_date  score        username  level  \\\n",
       "0        1663       165   26/01/2025    523  fullersamantha     70   \n",
       "1        1298        21   11/02/2025    916          todd18     45   \n",
       "2         198        39   09/02/2025    861       stephen00      8   \n",
       "\n",
       "    join_date    title     genre release_date  tournaments_id tournament_name  \\\n",
       "0  28/01/2025   center  Strategy   27/09/2010               4            seat   \n",
       "1  07/02/2025     trip    Sports   02/11/2000              47           argue   \n",
       "2  30/01/2025  company    Sports   28/01/2011              17            film   \n",
       "\n",
       "   prize_pool  \n",
       "0       86681  \n",
       "1       74092  \n",
       "2        4319  "
      ]
     },
     "execution_count": 1798,
     "metadata": {},
     "output_type": "execute_result"
    }
   ],
   "source": [
    "df.head(3)"
   ]
  },
  {
   "cell_type": "code",
   "execution_count": 1800,
   "id": "8dfc8d7b-6142-45cb-82a8-fdb259269731",
   "metadata": {},
   "outputs": [
    {
     "data": {
      "text/html": [
       "<div>\n",
       "<style scoped>\n",
       "    .dataframe tbody tr th:only-of-type {\n",
       "        vertical-align: middle;\n",
       "    }\n",
       "\n",
       "    .dataframe tbody tr th {\n",
       "        vertical-align: top;\n",
       "    }\n",
       "\n",
       "    .dataframe thead th {\n",
       "        text-align: right;\n",
       "    }\n",
       "</style>\n",
       "<table border=\"1\" class=\"dataframe\">\n",
       "  <thead>\n",
       "    <tr style=\"text-align: right;\">\n",
       "      <th></th>\n",
       "      <th>players_id</th>\n",
       "      <th>games_id</th>\n",
       "      <th>session_date</th>\n",
       "      <th>score</th>\n",
       "      <th>username</th>\n",
       "      <th>level</th>\n",
       "      <th>join_date</th>\n",
       "      <th>title</th>\n",
       "      <th>genre</th>\n",
       "      <th>release_date</th>\n",
       "      <th>tournaments_id</th>\n",
       "      <th>tournament_name</th>\n",
       "      <th>prize_pool</th>\n",
       "    </tr>\n",
       "  </thead>\n",
       "  <tbody>\n",
       "    <tr>\n",
       "      <th>4707</th>\n",
       "      <td>1</td>\n",
       "      <td>78</td>\n",
       "      <td>07/02/2025</td>\n",
       "      <td>109</td>\n",
       "      <td>ehaas</td>\n",
       "      <td>44</td>\n",
       "      <td>01/01/2025</td>\n",
       "      <td>join</td>\n",
       "      <td>Sports</td>\n",
       "      <td>04/02/2013</td>\n",
       "      <td>9</td>\n",
       "      <td>they</td>\n",
       "      <td>36050</td>\n",
       "    </tr>\n",
       "    <tr>\n",
       "      <th>4673</th>\n",
       "      <td>1</td>\n",
       "      <td>68</td>\n",
       "      <td>06/02/2025</td>\n",
       "      <td>362</td>\n",
       "      <td>ehaas</td>\n",
       "      <td>44</td>\n",
       "      <td>01/01/2025</td>\n",
       "      <td>husband</td>\n",
       "      <td>Action</td>\n",
       "      <td>25/07/2021</td>\n",
       "      <td>45</td>\n",
       "      <td>human</td>\n",
       "      <td>64942</td>\n",
       "    </tr>\n",
       "    <tr>\n",
       "      <th>1285</th>\n",
       "      <td>1</td>\n",
       "      <td>258</td>\n",
       "      <td>25/01/2025</td>\n",
       "      <td>716</td>\n",
       "      <td>ehaas</td>\n",
       "      <td>44</td>\n",
       "      <td>01/01/2025</td>\n",
       "      <td>student</td>\n",
       "      <td>Sports</td>\n",
       "      <td>29/08/2018</td>\n",
       "      <td>18</td>\n",
       "      <td>form</td>\n",
       "      <td>53429</td>\n",
       "    </tr>\n",
       "    <tr>\n",
       "      <th>3116</th>\n",
       "      <td>2</td>\n",
       "      <td>212</td>\n",
       "      <td>02/01/2025</td>\n",
       "      <td>0</td>\n",
       "      <td>sharrison</td>\n",
       "      <td>66</td>\n",
       "      <td>21/01/2025</td>\n",
       "      <td>beat</td>\n",
       "      <td>RPG</td>\n",
       "      <td>21/11/2011</td>\n",
       "      <td>8</td>\n",
       "      <td>nice</td>\n",
       "      <td>5582</td>\n",
       "    </tr>\n",
       "    <tr>\n",
       "      <th>4354</th>\n",
       "      <td>2</td>\n",
       "      <td>200</td>\n",
       "      <td>05/01/2025</td>\n",
       "      <td>886</td>\n",
       "      <td>sharrison</td>\n",
       "      <td>66</td>\n",
       "      <td>21/01/2025</td>\n",
       "      <td>page</td>\n",
       "      <td>Sports</td>\n",
       "      <td>23/09/2000</td>\n",
       "      <td>23</td>\n",
       "      <td>start</td>\n",
       "      <td>85502</td>\n",
       "    </tr>\n",
       "    <tr>\n",
       "      <th>2580</th>\n",
       "      <td>2</td>\n",
       "      <td>26</td>\n",
       "      <td>19/02/2025</td>\n",
       "      <td>181</td>\n",
       "      <td>sharrison</td>\n",
       "      <td>66</td>\n",
       "      <td>21/01/2025</td>\n",
       "      <td>behavior</td>\n",
       "      <td>RPG</td>\n",
       "      <td>17/08/2024</td>\n",
       "      <td>1</td>\n",
       "      <td>price</td>\n",
       "      <td>92322</td>\n",
       "    </tr>\n",
       "  </tbody>\n",
       "</table>\n",
       "</div>"
      ],
      "text/plain": [
       "      players_id  games_id session_date  score   username  level   join_date  \\\n",
       "4707           1        78   07/02/2025    109      ehaas     44  01/01/2025   \n",
       "4673           1        68   06/02/2025    362      ehaas     44  01/01/2025   \n",
       "1285           1       258   25/01/2025    716      ehaas     44  01/01/2025   \n",
       "3116           2       212   02/01/2025      0  sharrison     66  21/01/2025   \n",
       "4354           2       200   05/01/2025    886  sharrison     66  21/01/2025   \n",
       "2580           2        26   19/02/2025    181  sharrison     66  21/01/2025   \n",
       "\n",
       "         title   genre release_date  tournaments_id tournament_name  \\\n",
       "4707      join  Sports   04/02/2013               9            they   \n",
       "4673   husband  Action   25/07/2021              45           human   \n",
       "1285   student  Sports   29/08/2018              18            form   \n",
       "3116      beat     RPG   21/11/2011               8            nice   \n",
       "4354      page  Sports   23/09/2000              23           start   \n",
       "2580  behavior     RPG   17/08/2024               1           price   \n",
       "\n",
       "      prize_pool  \n",
       "4707       36050  \n",
       "4673       64942  \n",
       "1285       53429  \n",
       "3116        5582  \n",
       "4354       85502  \n",
       "2580       92322  "
      ]
     },
     "execution_count": 1800,
     "metadata": {},
     "output_type": "execute_result"
    }
   ],
   "source": [
    "df.sort_values('players_id').head(6)"
   ]
  },
  {
   "cell_type": "code",
   "execution_count": 1802,
   "id": "11886023-24bd-4d95-9174-93289c8987e3",
   "metadata": {},
   "outputs": [],
   "source": [
    "Tournament = df.loc[:,['tournaments_id','tournament_name','prize_pool']]"
   ]
  },
  {
   "cell_type": "code",
   "execution_count": 1804,
   "id": "82b858df-b0f0-4161-89d8-367f3796e5d9",
   "metadata": {},
   "outputs": [
    {
     "data": {
      "text/html": [
       "<div>\n",
       "<style scoped>\n",
       "    .dataframe tbody tr th:only-of-type {\n",
       "        vertical-align: middle;\n",
       "    }\n",
       "\n",
       "    .dataframe tbody tr th {\n",
       "        vertical-align: top;\n",
       "    }\n",
       "\n",
       "    .dataframe thead th {\n",
       "        text-align: right;\n",
       "    }\n",
       "</style>\n",
       "<table border=\"1\" class=\"dataframe\">\n",
       "  <thead>\n",
       "    <tr style=\"text-align: right;\">\n",
       "      <th></th>\n",
       "      <th>tournaments_id</th>\n",
       "      <th>tournament_name</th>\n",
       "      <th>prize_pool</th>\n",
       "    </tr>\n",
       "  </thead>\n",
       "  <tbody>\n",
       "    <tr>\n",
       "      <th>0</th>\n",
       "      <td>4</td>\n",
       "      <td>seat</td>\n",
       "      <td>86681</td>\n",
       "    </tr>\n",
       "    <tr>\n",
       "      <th>1</th>\n",
       "      <td>47</td>\n",
       "      <td>argue</td>\n",
       "      <td>74092</td>\n",
       "    </tr>\n",
       "    <tr>\n",
       "      <th>2</th>\n",
       "      <td>17</td>\n",
       "      <td>film</td>\n",
       "      <td>4319</td>\n",
       "    </tr>\n",
       "  </tbody>\n",
       "</table>\n",
       "</div>"
      ],
      "text/plain": [
       "   tournaments_id tournament_name  prize_pool\n",
       "0               4            seat       86681\n",
       "1              47           argue       74092\n",
       "2              17            film        4319"
      ]
     },
     "execution_count": 1804,
     "metadata": {},
     "output_type": "execute_result"
    }
   ],
   "source": [
    "Tournament.head(3)"
   ]
  },
  {
   "cell_type": "code",
   "execution_count": 1806,
   "id": "80eb5bb4-df08-499c-b56d-b5fb3fae3823",
   "metadata": {},
   "outputs": [],
   "source": [
    "Tournament.columns=['id', 'tournament_name', 'prize_pool']"
   ]
  },
  {
   "cell_type": "code",
   "execution_count": 1808,
   "id": "9ffdbd06-3d67-423f-8ef0-92f95ccaccfb",
   "metadata": {},
   "outputs": [
    {
     "data": {
      "text/plain": [
       "50"
      ]
     },
     "execution_count": 1808,
     "metadata": {},
     "output_type": "execute_result"
    }
   ],
   "source": [
    "len(Tournament['id'].unique())"
   ]
  },
  {
   "cell_type": "code",
   "execution_count": 1810,
   "id": "6035620f-c96e-4567-b19f-2d5e6e399837",
   "metadata": {},
   "outputs": [
    {
     "data": {
      "text/plain": [
       "5000"
      ]
     },
     "execution_count": 1810,
     "metadata": {},
     "output_type": "execute_result"
    }
   ],
   "source": [
    "len(Tournament)"
   ]
  },
  {
   "cell_type": "code",
   "execution_count": 1812,
   "id": "bc345d35-85d2-46c8-a956-46a61409aca3",
   "metadata": {},
   "outputs": [],
   "source": [
    "Tournament.drop_duplicates(subset='id',inplace=True)"
   ]
  },
  {
   "cell_type": "code",
   "execution_count": 1814,
   "id": "69860e33-0d35-4b4b-a4e5-3347f10cfc0b",
   "metadata": {},
   "outputs": [
    {
     "data": {
      "text/plain": [
       "50"
      ]
     },
     "execution_count": 1814,
     "metadata": {},
     "output_type": "execute_result"
    }
   ],
   "source": [
    "len(Tournament)"
   ]
  },
  {
   "cell_type": "code",
   "execution_count": 1816,
   "id": "67f4985a-5035-4752-9fc2-937179d213c0",
   "metadata": {},
   "outputs": [
    {
     "data": {
      "text/html": [
       "<div>\n",
       "<style scoped>\n",
       "    .dataframe tbody tr th:only-of-type {\n",
       "        vertical-align: middle;\n",
       "    }\n",
       "\n",
       "    .dataframe tbody tr th {\n",
       "        vertical-align: top;\n",
       "    }\n",
       "\n",
       "    .dataframe thead th {\n",
       "        text-align: right;\n",
       "    }\n",
       "</style>\n",
       "<table border=\"1\" class=\"dataframe\">\n",
       "  <thead>\n",
       "    <tr style=\"text-align: right;\">\n",
       "      <th></th>\n",
       "      <th>id</th>\n",
       "      <th>tournament_name</th>\n",
       "      <th>prize_pool</th>\n",
       "    </tr>\n",
       "  </thead>\n",
       "  <tbody>\n",
       "    <tr>\n",
       "      <th>0</th>\n",
       "      <td>4</td>\n",
       "      <td>seat</td>\n",
       "      <td>86681</td>\n",
       "    </tr>\n",
       "    <tr>\n",
       "      <th>1</th>\n",
       "      <td>47</td>\n",
       "      <td>argue</td>\n",
       "      <td>74092</td>\n",
       "    </tr>\n",
       "    <tr>\n",
       "      <th>2</th>\n",
       "      <td>17</td>\n",
       "      <td>film</td>\n",
       "      <td>4319</td>\n",
       "    </tr>\n",
       "  </tbody>\n",
       "</table>\n",
       "</div>"
      ],
      "text/plain": [
       "   id tournament_name  prize_pool\n",
       "0   4            seat       86681\n",
       "1  47           argue       74092\n",
       "2  17            film        4319"
      ]
     },
     "execution_count": 1816,
     "metadata": {},
     "output_type": "execute_result"
    }
   ],
   "source": [
    "Tournament.head(3)"
   ]
  },
  {
   "cell_type": "code",
   "execution_count": 1818,
   "id": "550e3deb-7d91-40ae-8a95-3386b52f0b30",
   "metadata": {},
   "outputs": [],
   "source": [
    "from sqlalchemy import create_engine"
   ]
  },
  {
   "cell_type": "code",
   "execution_count": 1820,
   "id": "e5cca011-3676-4ef4-8812-a8680d9fc27e",
   "metadata": {},
   "outputs": [],
   "source": [
    "engine = create_engine('sqlite:///Grupo3.db')"
   ]
  },
  {
   "cell_type": "code",
   "execution_count": 1822,
   "id": "34d51e04-4412-4f6d-81c3-62f1cc9f693c",
   "metadata": {},
   "outputs": [
    {
     "data": {
      "text/plain": [
       "50"
      ]
     },
     "execution_count": 1822,
     "metadata": {},
     "output_type": "execute_result"
    }
   ],
   "source": [
    "Tournament.to_sql('Tournament', con =engine, if_exists='replace', index=False)"
   ]
  },
  {
   "cell_type": "code",
   "execution_count": 1824,
   "id": "3a2bd315-6404-449e-9fb9-53683a6c2ac3",
   "metadata": {},
   "outputs": [],
   "source": [
    "engine.dispose()"
   ]
  },
  {
   "cell_type": "code",
   "execution_count": 1826,
   "id": "a41b2cce-7bc5-4626-9632-be5ddca05b00",
   "metadata": {},
   "outputs": [],
   "source": [
    "Game = df.loc[:,['games_id','genre','title','release_date','tournaments_id']]"
   ]
  },
  {
   "cell_type": "code",
   "execution_count": 1828,
   "id": "e4cc6aab-9397-4ae2-b3d2-4e9ad3a9974c",
   "metadata": {},
   "outputs": [
    {
     "data": {
      "text/html": [
       "<div>\n",
       "<style scoped>\n",
       "    .dataframe tbody tr th:only-of-type {\n",
       "        vertical-align: middle;\n",
       "    }\n",
       "\n",
       "    .dataframe tbody tr th {\n",
       "        vertical-align: top;\n",
       "    }\n",
       "\n",
       "    .dataframe thead th {\n",
       "        text-align: right;\n",
       "    }\n",
       "</style>\n",
       "<table border=\"1\" class=\"dataframe\">\n",
       "  <thead>\n",
       "    <tr style=\"text-align: right;\">\n",
       "      <th></th>\n",
       "      <th>games_id</th>\n",
       "      <th>genre</th>\n",
       "      <th>title</th>\n",
       "      <th>release_date</th>\n",
       "      <th>tournaments_id</th>\n",
       "    </tr>\n",
       "  </thead>\n",
       "  <tbody>\n",
       "    <tr>\n",
       "      <th>0</th>\n",
       "      <td>165</td>\n",
       "      <td>Strategy</td>\n",
       "      <td>center</td>\n",
       "      <td>27/09/2010</td>\n",
       "      <td>4</td>\n",
       "    </tr>\n",
       "    <tr>\n",
       "      <th>1</th>\n",
       "      <td>21</td>\n",
       "      <td>Sports</td>\n",
       "      <td>trip</td>\n",
       "      <td>02/11/2000</td>\n",
       "      <td>47</td>\n",
       "    </tr>\n",
       "    <tr>\n",
       "      <th>2</th>\n",
       "      <td>39</td>\n",
       "      <td>Sports</td>\n",
       "      <td>company</td>\n",
       "      <td>28/01/2011</td>\n",
       "      <td>17</td>\n",
       "    </tr>\n",
       "  </tbody>\n",
       "</table>\n",
       "</div>"
      ],
      "text/plain": [
       "   games_id     genre    title release_date  tournaments_id\n",
       "0       165  Strategy   center   27/09/2010               4\n",
       "1        21    Sports     trip   02/11/2000              47\n",
       "2        39    Sports  company   28/01/2011              17"
      ]
     },
     "execution_count": 1828,
     "metadata": {},
     "output_type": "execute_result"
    }
   ],
   "source": [
    "Game.head(3)"
   ]
  },
  {
   "cell_type": "code",
   "execution_count": 1830,
   "id": "8fcaa48f-8f52-475f-9156-669367cfe117",
   "metadata": {},
   "outputs": [],
   "source": [
    "Game.columns=['id','genre','title','release_date','tournaments_id']"
   ]
  },
  {
   "cell_type": "code",
   "execution_count": 1832,
   "id": "b32c4153-6c92-4759-841c-9310bc9f3699",
   "metadata": {},
   "outputs": [
    {
     "data": {
      "text/plain": [
       "300"
      ]
     },
     "execution_count": 1832,
     "metadata": {},
     "output_type": "execute_result"
    }
   ],
   "source": [
    "len(Game['id'].unique())"
   ]
  },
  {
   "cell_type": "code",
   "execution_count": 1834,
   "id": "fe164c04-56e4-48b5-aed0-bbe57a75c055",
   "metadata": {},
   "outputs": [
    {
     "data": {
      "text/plain": [
       "5000"
      ]
     },
     "execution_count": 1834,
     "metadata": {},
     "output_type": "execute_result"
    }
   ],
   "source": [
    "len(Game)"
   ]
  },
  {
   "cell_type": "code",
   "execution_count": 1836,
   "id": "85504b29-55bb-4e37-b7db-150a36002de4",
   "metadata": {},
   "outputs": [],
   "source": [
    "Game.drop_duplicates(subset='id',inplace=True)"
   ]
  },
  {
   "cell_type": "code",
   "execution_count": 1838,
   "id": "1e60aa4c-b02a-45b5-beb7-3d2e62d80588",
   "metadata": {},
   "outputs": [
    {
     "data": {
      "text/plain": [
       "300"
      ]
     },
     "execution_count": 1838,
     "metadata": {},
     "output_type": "execute_result"
    }
   ],
   "source": [
    "len(Game)"
   ]
  },
  {
   "cell_type": "code",
   "execution_count": 1840,
   "id": "1b884d91-835e-43f3-a308-fbd7f2da7d9b",
   "metadata": {},
   "outputs": [
    {
     "data": {
      "text/html": [
       "<div>\n",
       "<style scoped>\n",
       "    .dataframe tbody tr th:only-of-type {\n",
       "        vertical-align: middle;\n",
       "    }\n",
       "\n",
       "    .dataframe tbody tr th {\n",
       "        vertical-align: top;\n",
       "    }\n",
       "\n",
       "    .dataframe thead th {\n",
       "        text-align: right;\n",
       "    }\n",
       "</style>\n",
       "<table border=\"1\" class=\"dataframe\">\n",
       "  <thead>\n",
       "    <tr style=\"text-align: right;\">\n",
       "      <th></th>\n",
       "      <th>id</th>\n",
       "      <th>genre</th>\n",
       "      <th>title</th>\n",
       "      <th>release_date</th>\n",
       "      <th>tournaments_id</th>\n",
       "    </tr>\n",
       "  </thead>\n",
       "  <tbody>\n",
       "    <tr>\n",
       "      <th>0</th>\n",
       "      <td>165</td>\n",
       "      <td>Strategy</td>\n",
       "      <td>center</td>\n",
       "      <td>27/09/2010</td>\n",
       "      <td>4</td>\n",
       "    </tr>\n",
       "    <tr>\n",
       "      <th>1</th>\n",
       "      <td>21</td>\n",
       "      <td>Sports</td>\n",
       "      <td>trip</td>\n",
       "      <td>02/11/2000</td>\n",
       "      <td>47</td>\n",
       "    </tr>\n",
       "    <tr>\n",
       "      <th>2</th>\n",
       "      <td>39</td>\n",
       "      <td>Sports</td>\n",
       "      <td>company</td>\n",
       "      <td>28/01/2011</td>\n",
       "      <td>17</td>\n",
       "    </tr>\n",
       "  </tbody>\n",
       "</table>\n",
       "</div>"
      ],
      "text/plain": [
       "    id     genre    title release_date  tournaments_id\n",
       "0  165  Strategy   center   27/09/2010               4\n",
       "1   21    Sports     trip   02/11/2000              47\n",
       "2   39    Sports  company   28/01/2011              17"
      ]
     },
     "execution_count": 1840,
     "metadata": {},
     "output_type": "execute_result"
    }
   ],
   "source": [
    "Game.head(3)"
   ]
  },
  {
   "cell_type": "code",
   "execution_count": 1842,
   "id": "ae60271c-2cc3-4d33-adb9-024086b67c91",
   "metadata": {},
   "outputs": [],
   "source": [
    "from sqlalchemy import create_engine"
   ]
  },
  {
   "cell_type": "code",
   "execution_count": 1844,
   "id": "b2c4f0aa-3f3b-473e-9029-27564ec6f89a",
   "metadata": {},
   "outputs": [],
   "source": [
    "engine = create_engine('sqlite:///Grupo3.db')"
   ]
  },
  {
   "cell_type": "code",
   "execution_count": 1846,
   "id": "067a7483-fed1-4657-8850-880475486756",
   "metadata": {},
   "outputs": [
    {
     "data": {
      "text/plain": [
       "300"
      ]
     },
     "execution_count": 1846,
     "metadata": {},
     "output_type": "execute_result"
    }
   ],
   "source": [
    "Game.to_sql('Game', con =engine, if_exists='replace', index=False)"
   ]
  },
  {
   "cell_type": "code",
   "execution_count": 1848,
   "id": "412b5197-6e06-4cfa-bbdd-2ce1f53dd3e1",
   "metadata": {},
   "outputs": [],
   "source": [
    "engine.dispose()"
   ]
  },
  {
   "cell_type": "code",
   "execution_count": 1850,
   "id": "9ad13d95-90dc-4b8b-93b0-d2699c521aed",
   "metadata": {},
   "outputs": [],
   "source": [
    "Player = df.loc[:,['players_id','username','level','join_date', 'score']]"
   ]
  },
  {
   "cell_type": "code",
   "execution_count": 1852,
   "id": "9ae02f98-431e-4efd-af4e-e5b2ab87f8e8",
   "metadata": {},
   "outputs": [
    {
     "data": {
      "text/html": [
       "<div>\n",
       "<style scoped>\n",
       "    .dataframe tbody tr th:only-of-type {\n",
       "        vertical-align: middle;\n",
       "    }\n",
       "\n",
       "    .dataframe tbody tr th {\n",
       "        vertical-align: top;\n",
       "    }\n",
       "\n",
       "    .dataframe thead th {\n",
       "        text-align: right;\n",
       "    }\n",
       "</style>\n",
       "<table border=\"1\" class=\"dataframe\">\n",
       "  <thead>\n",
       "    <tr style=\"text-align: right;\">\n",
       "      <th></th>\n",
       "      <th>players_id</th>\n",
       "      <th>username</th>\n",
       "      <th>level</th>\n",
       "      <th>join_date</th>\n",
       "      <th>score</th>\n",
       "    </tr>\n",
       "  </thead>\n",
       "  <tbody>\n",
       "    <tr>\n",
       "      <th>0</th>\n",
       "      <td>1663</td>\n",
       "      <td>fullersamantha</td>\n",
       "      <td>70</td>\n",
       "      <td>28/01/2025</td>\n",
       "      <td>523</td>\n",
       "    </tr>\n",
       "    <tr>\n",
       "      <th>1</th>\n",
       "      <td>1298</td>\n",
       "      <td>todd18</td>\n",
       "      <td>45</td>\n",
       "      <td>07/02/2025</td>\n",
       "      <td>916</td>\n",
       "    </tr>\n",
       "    <tr>\n",
       "      <th>2</th>\n",
       "      <td>198</td>\n",
       "      <td>stephen00</td>\n",
       "      <td>8</td>\n",
       "      <td>30/01/2025</td>\n",
       "      <td>861</td>\n",
       "    </tr>\n",
       "  </tbody>\n",
       "</table>\n",
       "</div>"
      ],
      "text/plain": [
       "   players_id        username  level   join_date  score\n",
       "0        1663  fullersamantha     70  28/01/2025    523\n",
       "1        1298          todd18     45  07/02/2025    916\n",
       "2         198       stephen00      8  30/01/2025    861"
      ]
     },
     "execution_count": 1852,
     "metadata": {},
     "output_type": "execute_result"
    }
   ],
   "source": [
    "Player.head(3)"
   ]
  },
  {
   "cell_type": "code",
   "execution_count": 1854,
   "id": "acede771-7d7f-46c3-8b02-71a824934b80",
   "metadata": {},
   "outputs": [],
   "source": [
    "Player.columns=['id','username','level','join_date', 'score']"
   ]
  },
  {
   "cell_type": "code",
   "execution_count": 1856,
   "id": "b15104ed-da21-4455-856a-aef45e9f0e4f",
   "metadata": {},
   "outputs": [
    {
     "data": {
      "text/plain": [
       "1826"
      ]
     },
     "execution_count": 1856,
     "metadata": {},
     "output_type": "execute_result"
    }
   ],
   "source": [
    "len(Player['id'].unique())"
   ]
  },
  {
   "cell_type": "code",
   "execution_count": 1858,
   "id": "e57c294b-5be5-434d-aa8c-c7451f876c5c",
   "metadata": {},
   "outputs": [
    {
     "data": {
      "text/plain": [
       "5000"
      ]
     },
     "execution_count": 1858,
     "metadata": {},
     "output_type": "execute_result"
    }
   ],
   "source": [
    "len(Player)"
   ]
  },
  {
   "cell_type": "code",
   "execution_count": 1860,
   "id": "1ede22d9-ddd2-43b5-9efb-614be8e7e8da",
   "metadata": {},
   "outputs": [
    {
     "data": {
      "text/html": [
       "<div>\n",
       "<style scoped>\n",
       "    .dataframe tbody tr th:only-of-type {\n",
       "        vertical-align: middle;\n",
       "    }\n",
       "\n",
       "    .dataframe tbody tr th {\n",
       "        vertical-align: top;\n",
       "    }\n",
       "\n",
       "    .dataframe thead th {\n",
       "        text-align: right;\n",
       "    }\n",
       "</style>\n",
       "<table border=\"1\" class=\"dataframe\">\n",
       "  <thead>\n",
       "    <tr style=\"text-align: right;\">\n",
       "      <th></th>\n",
       "      <th>id</th>\n",
       "      <th>username</th>\n",
       "      <th>level</th>\n",
       "      <th>join_date</th>\n",
       "      <th>score</th>\n",
       "    </tr>\n",
       "  </thead>\n",
       "  <tbody>\n",
       "    <tr>\n",
       "      <th>0</th>\n",
       "      <td>1663</td>\n",
       "      <td>fullersamantha</td>\n",
       "      <td>70</td>\n",
       "      <td>28/01/2025</td>\n",
       "      <td>523</td>\n",
       "    </tr>\n",
       "    <tr>\n",
       "      <th>1</th>\n",
       "      <td>1298</td>\n",
       "      <td>todd18</td>\n",
       "      <td>45</td>\n",
       "      <td>07/02/2025</td>\n",
       "      <td>916</td>\n",
       "    </tr>\n",
       "    <tr>\n",
       "      <th>2</th>\n",
       "      <td>198</td>\n",
       "      <td>stephen00</td>\n",
       "      <td>8</td>\n",
       "      <td>30/01/2025</td>\n",
       "      <td>861</td>\n",
       "    </tr>\n",
       "  </tbody>\n",
       "</table>\n",
       "</div>"
      ],
      "text/plain": [
       "     id        username  level   join_date  score\n",
       "0  1663  fullersamantha     70  28/01/2025    523\n",
       "1  1298          todd18     45  07/02/2025    916\n",
       "2   198       stephen00      8  30/01/2025    861"
      ]
     },
     "execution_count": 1860,
     "metadata": {},
     "output_type": "execute_result"
    }
   ],
   "source": [
    "Player.head(3)"
   ]
  },
  {
   "cell_type": "code",
   "execution_count": 1862,
   "id": "15034d53-83af-420b-9669-52bba00951c2",
   "metadata": {},
   "outputs": [],
   "source": [
    "from sqlalchemy import create_engine"
   ]
  },
  {
   "cell_type": "code",
   "execution_count": 1864,
   "id": "82d79444-8d5d-4ff7-a46e-3f0ec15875e7",
   "metadata": {},
   "outputs": [],
   "source": [
    "engine = create_engine('sqlite:///Grupo3.db')"
   ]
  },
  {
   "cell_type": "code",
   "execution_count": 1866,
   "id": "4ad79564-6777-428e-a4fc-05f3412d905e",
   "metadata": {},
   "outputs": [
    {
     "data": {
      "text/plain": [
       "5000"
      ]
     },
     "execution_count": 1866,
     "metadata": {},
     "output_type": "execute_result"
    }
   ],
   "source": [
    "Player.to_sql('Player', con =engine, if_exists='replace', index=False)"
   ]
  },
  {
   "cell_type": "code",
   "execution_count": 1868,
   "id": "1c609926-d09f-459e-b220-c576f65ef44e",
   "metadata": {},
   "outputs": [],
   "source": [
    "engine.dispose()"
   ]
  },
  {
   "cell_type": "code",
   "execution_count": 1870,
   "id": "0ebd282b-7500-42a5-9c27-008e82dcac7d",
   "metadata": {},
   "outputs": [],
   "source": [
    "Player = df.loc[:,['players_id','username','level','join_date', 'score']]"
   ]
  },
  {
   "cell_type": "code",
   "execution_count": 1872,
   "id": "3b7d36dd-944e-4fca-9030-2e2f4c3294ef",
   "metadata": {
    "scrolled": true
   },
   "outputs": [
    {
     "data": {
      "text/html": [
       "<div>\n",
       "<style scoped>\n",
       "    .dataframe tbody tr th:only-of-type {\n",
       "        vertical-align: middle;\n",
       "    }\n",
       "\n",
       "    .dataframe tbody tr th {\n",
       "        vertical-align: top;\n",
       "    }\n",
       "\n",
       "    .dataframe thead th {\n",
       "        text-align: right;\n",
       "    }\n",
       "</style>\n",
       "<table border=\"1\" class=\"dataframe\">\n",
       "  <thead>\n",
       "    <tr style=\"text-align: right;\">\n",
       "      <th></th>\n",
       "      <th>players_id</th>\n",
       "      <th>username</th>\n",
       "      <th>level</th>\n",
       "      <th>join_date</th>\n",
       "      <th>score</th>\n",
       "    </tr>\n",
       "  </thead>\n",
       "  <tbody>\n",
       "    <tr>\n",
       "      <th>0</th>\n",
       "      <td>1663</td>\n",
       "      <td>fullersamantha</td>\n",
       "      <td>70</td>\n",
       "      <td>28/01/2025</td>\n",
       "      <td>523</td>\n",
       "    </tr>\n",
       "    <tr>\n",
       "      <th>1</th>\n",
       "      <td>1298</td>\n",
       "      <td>todd18</td>\n",
       "      <td>45</td>\n",
       "      <td>07/02/2025</td>\n",
       "      <td>916</td>\n",
       "    </tr>\n",
       "    <tr>\n",
       "      <th>2</th>\n",
       "      <td>198</td>\n",
       "      <td>stephen00</td>\n",
       "      <td>8</td>\n",
       "      <td>30/01/2025</td>\n",
       "      <td>861</td>\n",
       "    </tr>\n",
       "  </tbody>\n",
       "</table>\n",
       "</div>"
      ],
      "text/plain": [
       "   players_id        username  level   join_date  score\n",
       "0        1663  fullersamantha     70  28/01/2025    523\n",
       "1        1298          todd18     45  07/02/2025    916\n",
       "2         198       stephen00      8  30/01/2025    861"
      ]
     },
     "execution_count": 1872,
     "metadata": {},
     "output_type": "execute_result"
    }
   ],
   "source": [
    "Player.head(3)"
   ]
  },
  {
   "cell_type": "code",
   "execution_count": 1874,
   "id": "81cd6e05-4d1d-4ad2-b398-39a832dbcb33",
   "metadata": {},
   "outputs": [],
   "source": [
    "Player.columns=['id','username','level','join_date', 'score']"
   ]
  },
  {
   "cell_type": "code",
   "execution_count": 1876,
   "id": "1aad0a63-cb47-47b4-8cf4-6be8b4fcaf9c",
   "metadata": {},
   "outputs": [
    {
     "data": {
      "text/plain": [
       "1826"
      ]
     },
     "execution_count": 1876,
     "metadata": {},
     "output_type": "execute_result"
    }
   ],
   "source": [
    "len(Player['id'].unique())"
   ]
  },
  {
   "cell_type": "code",
   "execution_count": 1878,
   "id": "381adbf1-9c80-4931-83a3-444e3f17b64c",
   "metadata": {},
   "outputs": [
    {
     "data": {
      "text/plain": [
       "5000"
      ]
     },
     "execution_count": 1878,
     "metadata": {},
     "output_type": "execute_result"
    }
   ],
   "source": [
    "len(Player)"
   ]
  },
  {
   "cell_type": "code",
   "execution_count": 1880,
   "id": "00c808d1-7a06-4ecb-87c4-a890bbf42d72",
   "metadata": {},
   "outputs": [
    {
     "data": {
      "text/html": [
       "<div>\n",
       "<style scoped>\n",
       "    .dataframe tbody tr th:only-of-type {\n",
       "        vertical-align: middle;\n",
       "    }\n",
       "\n",
       "    .dataframe tbody tr th {\n",
       "        vertical-align: top;\n",
       "    }\n",
       "\n",
       "    .dataframe thead th {\n",
       "        text-align: right;\n",
       "    }\n",
       "</style>\n",
       "<table border=\"1\" class=\"dataframe\">\n",
       "  <thead>\n",
       "    <tr style=\"text-align: right;\">\n",
       "      <th></th>\n",
       "      <th>id</th>\n",
       "      <th>username</th>\n",
       "      <th>level</th>\n",
       "      <th>join_date</th>\n",
       "      <th>score</th>\n",
       "    </tr>\n",
       "  </thead>\n",
       "  <tbody>\n",
       "    <tr>\n",
       "      <th>0</th>\n",
       "      <td>1663</td>\n",
       "      <td>fullersamantha</td>\n",
       "      <td>70</td>\n",
       "      <td>28/01/2025</td>\n",
       "      <td>523</td>\n",
       "    </tr>\n",
       "    <tr>\n",
       "      <th>1</th>\n",
       "      <td>1298</td>\n",
       "      <td>todd18</td>\n",
       "      <td>45</td>\n",
       "      <td>07/02/2025</td>\n",
       "      <td>916</td>\n",
       "    </tr>\n",
       "    <tr>\n",
       "      <th>2</th>\n",
       "      <td>198</td>\n",
       "      <td>stephen00</td>\n",
       "      <td>8</td>\n",
       "      <td>30/01/2025</td>\n",
       "      <td>861</td>\n",
       "    </tr>\n",
       "  </tbody>\n",
       "</table>\n",
       "</div>"
      ],
      "text/plain": [
       "     id        username  level   join_date  score\n",
       "0  1663  fullersamantha     70  28/01/2025    523\n",
       "1  1298          todd18     45  07/02/2025    916\n",
       "2   198       stephen00      8  30/01/2025    861"
      ]
     },
     "execution_count": 1880,
     "metadata": {},
     "output_type": "execute_result"
    }
   ],
   "source": [
    "Player.head(3)"
   ]
  },
  {
   "cell_type": "code",
   "execution_count": 1882,
   "id": "a510aeed-33af-47f9-a423-14cb48a65abc",
   "metadata": {},
   "outputs": [],
   "source": [
    "from sqlalchemy import create_engine"
   ]
  },
  {
   "cell_type": "code",
   "execution_count": 1884,
   "id": "b8837990-894c-4dfa-b3b9-eb733edfb843",
   "metadata": {},
   "outputs": [],
   "source": [
    "engine = create_engine('sqlite:///Grupo3.db')"
   ]
  },
  {
   "cell_type": "code",
   "execution_count": 1886,
   "id": "728ef0e3-f4ba-4b42-a4d1-1aa34c33e714",
   "metadata": {},
   "outputs": [
    {
     "data": {
      "text/plain": [
       "300"
      ]
     },
     "execution_count": 1886,
     "metadata": {},
     "output_type": "execute_result"
    }
   ],
   "source": [
    "Game.to_sql('Game', con =engine, if_exists='replace', index=False)"
   ]
  },
  {
   "cell_type": "code",
   "execution_count": 1888,
   "id": "81411051-1e64-4f90-9f5b-fab4a0cafbc2",
   "metadata": {},
   "outputs": [],
   "source": [
    "engine.dispose()"
   ]
  },
  {
   "cell_type": "code",
   "execution_count": 1890,
   "id": "5dd6f57a-4bdb-4e56-ba61-22c3f0ecc68b",
   "metadata": {},
   "outputs": [],
   "source": [
    "Game_player = df.loc[:,['players_id','games_id']]"
   ]
  },
  {
   "cell_type": "code",
   "execution_count": 1892,
   "id": "2644d0de-4666-435a-a90e-609e33c1c4f6",
   "metadata": {},
   "outputs": [],
   "source": [
    "Game_player.insert(0,'id', range(1,len(Game_player)+1))"
   ]
  },
  {
   "cell_type": "code",
   "execution_count": 1894,
   "id": "2bcc0a92-f6d2-43c8-a516-af849daa2ce8",
   "metadata": {},
   "outputs": [
    {
     "data": {
      "text/html": [
       "<div>\n",
       "<style scoped>\n",
       "    .dataframe tbody tr th:only-of-type {\n",
       "        vertical-align: middle;\n",
       "    }\n",
       "\n",
       "    .dataframe tbody tr th {\n",
       "        vertical-align: top;\n",
       "    }\n",
       "\n",
       "    .dataframe thead th {\n",
       "        text-align: right;\n",
       "    }\n",
       "</style>\n",
       "<table border=\"1\" class=\"dataframe\">\n",
       "  <thead>\n",
       "    <tr style=\"text-align: right;\">\n",
       "      <th></th>\n",
       "      <th>id</th>\n",
       "      <th>players_id</th>\n",
       "      <th>games_id</th>\n",
       "    </tr>\n",
       "  </thead>\n",
       "  <tbody>\n",
       "    <tr>\n",
       "      <th>0</th>\n",
       "      <td>1</td>\n",
       "      <td>1663</td>\n",
       "      <td>165</td>\n",
       "    </tr>\n",
       "    <tr>\n",
       "      <th>1</th>\n",
       "      <td>2</td>\n",
       "      <td>1298</td>\n",
       "      <td>21</td>\n",
       "    </tr>\n",
       "    <tr>\n",
       "      <th>2</th>\n",
       "      <td>3</td>\n",
       "      <td>198</td>\n",
       "      <td>39</td>\n",
       "    </tr>\n",
       "  </tbody>\n",
       "</table>\n",
       "</div>"
      ],
      "text/plain": [
       "   id  players_id  games_id\n",
       "0   1        1663       165\n",
       "1   2        1298        21\n",
       "2   3         198        39"
      ]
     },
     "execution_count": 1894,
     "metadata": {},
     "output_type": "execute_result"
    }
   ],
   "source": [
    "Game_player.head(3)"
   ]
  },
  {
   "cell_type": "code",
   "execution_count": 1896,
   "id": "38111c99-ae60-4879-a167-48c5c59fd210",
   "metadata": {},
   "outputs": [],
   "source": [
    "Game_player.columns=['id','players_id','games_id']"
   ]
  },
  {
   "cell_type": "code",
   "execution_count": 1898,
   "id": "3cc41f6f-5b25-41d7-aa0a-0c78eecfc1f2",
   "metadata": {},
   "outputs": [
    {
     "data": {
      "text/html": [
       "<div>\n",
       "<style scoped>\n",
       "    .dataframe tbody tr th:only-of-type {\n",
       "        vertical-align: middle;\n",
       "    }\n",
       "\n",
       "    .dataframe tbody tr th {\n",
       "        vertical-align: top;\n",
       "    }\n",
       "\n",
       "    .dataframe thead th {\n",
       "        text-align: right;\n",
       "    }\n",
       "</style>\n",
       "<table border=\"1\" class=\"dataframe\">\n",
       "  <thead>\n",
       "    <tr style=\"text-align: right;\">\n",
       "      <th></th>\n",
       "      <th>id</th>\n",
       "      <th>players_id</th>\n",
       "      <th>games_id</th>\n",
       "    </tr>\n",
       "  </thead>\n",
       "  <tbody>\n",
       "    <tr>\n",
       "      <th>0</th>\n",
       "      <td>1</td>\n",
       "      <td>1663</td>\n",
       "      <td>165</td>\n",
       "    </tr>\n",
       "    <tr>\n",
       "      <th>1</th>\n",
       "      <td>2</td>\n",
       "      <td>1298</td>\n",
       "      <td>21</td>\n",
       "    </tr>\n",
       "    <tr>\n",
       "      <th>2</th>\n",
       "      <td>3</td>\n",
       "      <td>198</td>\n",
       "      <td>39</td>\n",
       "    </tr>\n",
       "  </tbody>\n",
       "</table>\n",
       "</div>"
      ],
      "text/plain": [
       "   id  players_id  games_id\n",
       "0   1        1663       165\n",
       "1   2        1298        21\n",
       "2   3         198        39"
      ]
     },
     "execution_count": 1898,
     "metadata": {},
     "output_type": "execute_result"
    }
   ],
   "source": [
    "Game_player.head(3)"
   ]
  },
  {
   "cell_type": "code",
   "execution_count": 1900,
   "id": "b4fce91c-7141-40b7-ab59-4e9db77c886b",
   "metadata": {},
   "outputs": [],
   "source": [
    "from sqlalchemy import create_engine"
   ]
  },
  {
   "cell_type": "code",
   "execution_count": 1902,
   "id": "47b23aaa-ead8-4226-8804-9ac4c93d7a5c",
   "metadata": {},
   "outputs": [],
   "source": [
    "engine = create_engine('sqlite:///Grupo3.db')"
   ]
  },
  {
   "cell_type": "code",
   "execution_count": 1904,
   "id": "b4e7fbcc-93c4-4d6e-bc82-425d7aea6561",
   "metadata": {},
   "outputs": [
    {
     "data": {
      "text/plain": [
       "5000"
      ]
     },
     "execution_count": 1904,
     "metadata": {},
     "output_type": "execute_result"
    }
   ],
   "source": [
    "Game_player.to_sql('Game_player', con =engine, if_exists='replace', index=False)"
   ]
  },
  {
   "cell_type": "code",
   "execution_count": 1906,
   "id": "0667d5ac-28e0-401f-a4ea-d2ba54ceb69d",
   "metadata": {},
   "outputs": [],
   "source": [
    "engine.dispose()"
   ]
  },
  {
   "cell_type": "code",
   "execution_count": null,
   "id": "c5a975d6-ce04-419f-8946-31e94e97fc5f",
   "metadata": {},
   "outputs": [],
   "source": []
  },
  {
   "cell_type": "code",
   "execution_count": null,
   "id": "f564b726-4428-493c-a912-93a080382ce5",
   "metadata": {},
   "outputs": [],
   "source": []
  },
  {
   "cell_type": "code",
   "execution_count": null,
   "id": "a07c6aa6-df34-4c8d-9fea-22c24a2f1ae3",
   "metadata": {},
   "outputs": [],
   "source": []
  },
  {
   "cell_type": "code",
   "execution_count": null,
   "id": "0162f2d3-a491-4289-b5a5-54a45dc08373",
   "metadata": {},
   "outputs": [],
   "source": []
  },
  {
   "cell_type": "code",
   "execution_count": null,
   "id": "9926e302-0555-403a-aa6c-09fb0cf05d73",
   "metadata": {},
   "outputs": [],
   "source": []
  },
  {
   "cell_type": "code",
   "execution_count": null,
   "id": "b0940567-8a7d-4251-a19a-2defc5ee9bec",
   "metadata": {},
   "outputs": [],
   "source": []
  },
  {
   "cell_type": "code",
   "execution_count": null,
   "id": "4ad1d1fb-2c1e-4aa3-b2ee-058af4757f49",
   "metadata": {},
   "outputs": [],
   "source": []
  }
 ],
 "metadata": {
  "kernelspec": {
   "display_name": "Python 3 (ipykernel)",
   "language": "python",
   "name": "python3"
  },
  "language_info": {
   "codemirror_mode": {
    "name": "ipython",
    "version": 3
   },
   "file_extension": ".py",
   "mimetype": "text/x-python",
   "name": "python",
   "nbconvert_exporter": "python",
   "pygments_lexer": "ipython3",
   "version": "3.12.4"
  }
 },
 "nbformat": 4,
 "nbformat_minor": 5
}
