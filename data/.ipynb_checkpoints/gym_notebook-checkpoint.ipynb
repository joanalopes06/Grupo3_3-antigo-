{
 "cells": [
  {
   "cell_type": "code",
   "execution_count": 69,
   "id": "86525543-6d26-4e79-97ec-8bc7adb043b7",
   "metadata": {},
   "outputs": [],
   "source": [
    "import pandas as pd"
   ]
  },
  {
   "cell_type": "code",
   "execution_count": 71,
   "id": "3377031e-15c8-418c-8967-4ac5b264ea72",
   "metadata": {},
   "outputs": [],
   "source": [
    "df = pd.read_csv('17_Fitness Centers – Members & Classes with Instructors_merged.csv')"
   ]
  },
  {
   "cell_type": "code",
   "execution_count": 73,
   "id": "7994c515-d258-4247-b9ed-9b7da77edd11",
   "metadata": {},
   "outputs": [
    {
     "data": {
      "text/html": [
       "<div>\n",
       "<style scoped>\n",
       "    .dataframe tbody tr th:only-of-type {\n",
       "        vertical-align: middle;\n",
       "    }\n",
       "\n",
       "    .dataframe tbody tr th {\n",
       "        vertical-align: top;\n",
       "    }\n",
       "\n",
       "    .dataframe thead th {\n",
       "        text-align: right;\n",
       "    }\n",
       "</style>\n",
       "<table border=\"1\" class=\"dataframe\">\n",
       "  <thead>\n",
       "    <tr style=\"text-align: right;\">\n",
       "      <th></th>\n",
       "      <th>member_id</th>\n",
       "      <th>class_id</th>\n",
       "      <th>registration_date</th>\n",
       "      <th>status</th>\n",
       "      <th>member_name</th>\n",
       "      <th>age</th>\n",
       "      <th>membership_level</th>\n",
       "      <th>class_name</th>\n",
       "      <th>schedule</th>\n",
       "      <th>trainer</th>\n",
       "      <th>instructor_id</th>\n",
       "      <th>instructor_name</th>\n",
       "      <th>certification</th>\n",
       "    </tr>\n",
       "  </thead>\n",
       "  <tbody>\n",
       "    <tr>\n",
       "      <th>0</th>\n",
       "      <td>449</td>\n",
       "      <td>82</td>\n",
       "      <td>1/24/2025</td>\n",
       "      <td>Cancelled</td>\n",
       "      <td>Paul Brewer</td>\n",
       "      <td>35</td>\n",
       "      <td>Basic</td>\n",
       "      <td>hand</td>\n",
       "      <td>0:42:50</td>\n",
       "      <td>Kyle Goodwin</td>\n",
       "      <td>31</td>\n",
       "      <td>Laura Burke</td>\n",
       "      <td>within</td>\n",
       "    </tr>\n",
       "    <tr>\n",
       "      <th>1</th>\n",
       "      <td>512</td>\n",
       "      <td>95</td>\n",
       "      <td>1/9/2025</td>\n",
       "      <td>Cancelled</td>\n",
       "      <td>Scott Cooper</td>\n",
       "      <td>54</td>\n",
       "      <td>Basic</td>\n",
       "      <td>their</td>\n",
       "      <td>1:12:45</td>\n",
       "      <td>Nichole Ford</td>\n",
       "      <td>33</td>\n",
       "      <td>Donna Aguirre</td>\n",
       "      <td>little</td>\n",
       "    </tr>\n",
       "    <tr>\n",
       "      <th>2</th>\n",
       "      <td>979</td>\n",
       "      <td>100</td>\n",
       "      <td>2/9/2025</td>\n",
       "      <td>Cancelled</td>\n",
       "      <td>Nancy Mack</td>\n",
       "      <td>25</td>\n",
       "      <td>Premium</td>\n",
       "      <td>young</td>\n",
       "      <td>14:24:29</td>\n",
       "      <td>Joshua Flores</td>\n",
       "      <td>11</td>\n",
       "      <td>Justin Suarez</td>\n",
       "      <td>compare</td>\n",
       "    </tr>\n",
       "  </tbody>\n",
       "</table>\n",
       "</div>"
      ],
      "text/plain": [
       "   member_id  class_id registration_date     status   member_name  age  \\\n",
       "0        449        82         1/24/2025  Cancelled   Paul Brewer   35   \n",
       "1        512        95          1/9/2025  Cancelled  Scott Cooper   54   \n",
       "2        979       100          2/9/2025  Cancelled    Nancy Mack   25   \n",
       "\n",
       "  membership_level class_name  schedule        trainer  instructor_id  \\\n",
       "0            Basic       hand   0:42:50   Kyle Goodwin             31   \n",
       "1            Basic      their   1:12:45   Nichole Ford             33   \n",
       "2          Premium      young  14:24:29  Joshua Flores             11   \n",
       "\n",
       "  instructor_name certification  \n",
       "0     Laura Burke        within  \n",
       "1   Donna Aguirre        little  \n",
       "2   Justin Suarez       compare  "
      ]
     },
     "execution_count": 73,
     "metadata": {},
     "output_type": "execute_result"
    }
   ],
   "source": [
    "df.head(3)"
   ]
  },
  {
   "cell_type": "code",
   "execution_count": 75,
   "id": "8dfc8d7b-6142-45cb-82a8-fdb259269731",
   "metadata": {},
   "outputs": [
    {
     "data": {
      "text/html": [
       "<div>\n",
       "<style scoped>\n",
       "    .dataframe tbody tr th:only-of-type {\n",
       "        vertical-align: middle;\n",
       "    }\n",
       "\n",
       "    .dataframe tbody tr th {\n",
       "        vertical-align: top;\n",
       "    }\n",
       "\n",
       "    .dataframe thead th {\n",
       "        text-align: right;\n",
       "    }\n",
       "</style>\n",
       "<table border=\"1\" class=\"dataframe\">\n",
       "  <thead>\n",
       "    <tr style=\"text-align: right;\">\n",
       "      <th></th>\n",
       "      <th>member_id</th>\n",
       "      <th>class_id</th>\n",
       "      <th>registration_date</th>\n",
       "      <th>status</th>\n",
       "      <th>member_name</th>\n",
       "      <th>age</th>\n",
       "      <th>membership_level</th>\n",
       "      <th>class_name</th>\n",
       "      <th>schedule</th>\n",
       "      <th>trainer</th>\n",
       "      <th>instructor_id</th>\n",
       "      <th>instructor_name</th>\n",
       "      <th>certification</th>\n",
       "    </tr>\n",
       "  </thead>\n",
       "  <tbody>\n",
       "    <tr>\n",
       "      <th>1082</th>\n",
       "      <td>1</td>\n",
       "      <td>11</td>\n",
       "      <td>2/1/2025</td>\n",
       "      <td>Active</td>\n",
       "      <td>David Payne</td>\n",
       "      <td>55</td>\n",
       "      <td>Premium</td>\n",
       "      <td>fight</td>\n",
       "      <td>4:50:39</td>\n",
       "      <td>Julia Morales</td>\n",
       "      <td>7</td>\n",
       "      <td>Kimberly Stark</td>\n",
       "      <td>everyone</td>\n",
       "    </tr>\n",
       "    <tr>\n",
       "      <th>1245</th>\n",
       "      <td>3</td>\n",
       "      <td>81</td>\n",
       "      <td>1/16/2025</td>\n",
       "      <td>Cancelled</td>\n",
       "      <td>Eric Hayes</td>\n",
       "      <td>56</td>\n",
       "      <td>Basic</td>\n",
       "      <td>east</td>\n",
       "      <td>1:01:57</td>\n",
       "      <td>Joshua Smith</td>\n",
       "      <td>46</td>\n",
       "      <td>Nicole Santos</td>\n",
       "      <td>end</td>\n",
       "    </tr>\n",
       "    <tr>\n",
       "      <th>458</th>\n",
       "      <td>3</td>\n",
       "      <td>67</td>\n",
       "      <td>2/17/2025</td>\n",
       "      <td>Cancelled</td>\n",
       "      <td>Eric Hayes</td>\n",
       "      <td>56</td>\n",
       "      <td>Basic</td>\n",
       "      <td>bag</td>\n",
       "      <td>5:44:35</td>\n",
       "      <td>Bobby Ray DDS</td>\n",
       "      <td>15</td>\n",
       "      <td>Elizabeth Wilson</td>\n",
       "      <td>performance</td>\n",
       "    </tr>\n",
       "    <tr>\n",
       "      <th>1490</th>\n",
       "      <td>3</td>\n",
       "      <td>90</td>\n",
       "      <td>1/19/2025</td>\n",
       "      <td>Active</td>\n",
       "      <td>Eric Hayes</td>\n",
       "      <td>56</td>\n",
       "      <td>Basic</td>\n",
       "      <td>score</td>\n",
       "      <td>5:18:01</td>\n",
       "      <td>Christopher Lloyd</td>\n",
       "      <td>9</td>\n",
       "      <td>Amber Morgan</td>\n",
       "      <td>visit</td>\n",
       "    </tr>\n",
       "    <tr>\n",
       "      <th>1176</th>\n",
       "      <td>5</td>\n",
       "      <td>16</td>\n",
       "      <td>2/21/2025</td>\n",
       "      <td>Active</td>\n",
       "      <td>Kyle Bradshaw</td>\n",
       "      <td>63</td>\n",
       "      <td>Basic</td>\n",
       "      <td>however</td>\n",
       "      <td>18:18:30</td>\n",
       "      <td>Veronica Patel</td>\n",
       "      <td>44</td>\n",
       "      <td>Mark Guerra</td>\n",
       "      <td>why</td>\n",
       "    </tr>\n",
       "    <tr>\n",
       "      <th>921</th>\n",
       "      <td>5</td>\n",
       "      <td>92</td>\n",
       "      <td>1/15/2025</td>\n",
       "      <td>Cancelled</td>\n",
       "      <td>Kyle Bradshaw</td>\n",
       "      <td>63</td>\n",
       "      <td>Basic</td>\n",
       "      <td>reason</td>\n",
       "      <td>18:26:28</td>\n",
       "      <td>Gary Costa</td>\n",
       "      <td>36</td>\n",
       "      <td>Donald Day</td>\n",
       "      <td>big</td>\n",
       "    </tr>\n",
       "  </tbody>\n",
       "</table>\n",
       "</div>"
      ],
      "text/plain": [
       "      member_id  class_id registration_date     status    member_name  age  \\\n",
       "1082          1        11          2/1/2025     Active    David Payne   55   \n",
       "1245          3        81         1/16/2025  Cancelled     Eric Hayes   56   \n",
       "458           3        67         2/17/2025  Cancelled     Eric Hayes   56   \n",
       "1490          3        90         1/19/2025     Active     Eric Hayes   56   \n",
       "1176          5        16         2/21/2025     Active  Kyle Bradshaw   63   \n",
       "921           5        92         1/15/2025  Cancelled  Kyle Bradshaw   63   \n",
       "\n",
       "     membership_level class_name  schedule            trainer  instructor_id  \\\n",
       "1082          Premium      fight   4:50:39      Julia Morales              7   \n",
       "1245            Basic       east   1:01:57       Joshua Smith             46   \n",
       "458             Basic        bag   5:44:35      Bobby Ray DDS             15   \n",
       "1490            Basic      score   5:18:01  Christopher Lloyd              9   \n",
       "1176            Basic    however  18:18:30     Veronica Patel             44   \n",
       "921             Basic     reason  18:26:28         Gary Costa             36   \n",
       "\n",
       "       instructor_name certification  \n",
       "1082    Kimberly Stark      everyone  \n",
       "1245     Nicole Santos           end  \n",
       "458   Elizabeth Wilson   performance  \n",
       "1490      Amber Morgan         visit  \n",
       "1176       Mark Guerra           why  \n",
       "921         Donald Day           big  "
      ]
     },
     "execution_count": 75,
     "metadata": {},
     "output_type": "execute_result"
    }
   ],
   "source": [
    "df.sort_values('member_id').head(6)"
   ]
  },
  {
   "cell_type": "code",
   "execution_count": 77,
   "id": "11886023-24bd-4d95-9174-93289c8987e3",
   "metadata": {},
   "outputs": [],
   "source": [
    "Member = df.loc[:,['member_id','member_name','age','membership_level']]"
   ]
  },
  {
   "cell_type": "code",
   "execution_count": 81,
   "id": "82b858df-b0f0-4161-89d8-367f3796e5d9",
   "metadata": {},
   "outputs": [
    {
     "data": {
      "text/html": [
       "<div>\n",
       "<style scoped>\n",
       "    .dataframe tbody tr th:only-of-type {\n",
       "        vertical-align: middle;\n",
       "    }\n",
       "\n",
       "    .dataframe tbody tr th {\n",
       "        vertical-align: top;\n",
       "    }\n",
       "\n",
       "    .dataframe thead th {\n",
       "        text-align: right;\n",
       "    }\n",
       "</style>\n",
       "<table border=\"1\" class=\"dataframe\">\n",
       "  <thead>\n",
       "    <tr style=\"text-align: right;\">\n",
       "      <th></th>\n",
       "      <th>member_id</th>\n",
       "      <th>member_name</th>\n",
       "      <th>age</th>\n",
       "      <th>membership_level</th>\n",
       "    </tr>\n",
       "  </thead>\n",
       "  <tbody>\n",
       "    <tr>\n",
       "      <th>0</th>\n",
       "      <td>449</td>\n",
       "      <td>Paul Brewer</td>\n",
       "      <td>35</td>\n",
       "      <td>Basic</td>\n",
       "    </tr>\n",
       "    <tr>\n",
       "      <th>1</th>\n",
       "      <td>512</td>\n",
       "      <td>Scott Cooper</td>\n",
       "      <td>54</td>\n",
       "      <td>Basic</td>\n",
       "    </tr>\n",
       "    <tr>\n",
       "      <th>2</th>\n",
       "      <td>979</td>\n",
       "      <td>Nancy Mack</td>\n",
       "      <td>25</td>\n",
       "      <td>Premium</td>\n",
       "    </tr>\n",
       "  </tbody>\n",
       "</table>\n",
       "</div>"
      ],
      "text/plain": [
       "   member_id   member_name  age membership_level\n",
       "0        449   Paul Brewer   35            Basic\n",
       "1        512  Scott Cooper   54            Basic\n",
       "2        979    Nancy Mack   25          Premium"
      ]
     },
     "execution_count": 81,
     "metadata": {},
     "output_type": "execute_result"
    }
   ],
   "source": [
    "Member.head(3)"
   ]
  },
  {
   "cell_type": "code",
   "execution_count": 83,
   "id": "80eb5bb4-df08-499c-b56d-b5fb3fae3823",
   "metadata": {},
   "outputs": [],
   "source": [
    "Member.columns=['id', 'name', 'age', 'level']"
   ]
  },
  {
   "cell_type": "code",
   "execution_count": 85,
   "id": "9ffdbd06-3d67-423f-8ef0-92f95ccaccfb",
   "metadata": {},
   "outputs": [
    {
     "data": {
      "text/plain": [
       "769"
      ]
     },
     "execution_count": 85,
     "metadata": {},
     "output_type": "execute_result"
    }
   ],
   "source": [
    "len(Member['id'].unique())"
   ]
  },
  {
   "cell_type": "code",
   "execution_count": 87,
   "id": "6035620f-c96e-4567-b19f-2d5e6e399837",
   "metadata": {},
   "outputs": [
    {
     "data": {
      "text/plain": [
       "1500"
      ]
     },
     "execution_count": 87,
     "metadata": {},
     "output_type": "execute_result"
    }
   ],
   "source": [
    "len(Member)"
   ]
  },
  {
   "cell_type": "code",
   "execution_count": 89,
   "id": "bc345d35-85d2-46c8-a956-46a61409aca3",
   "metadata": {},
   "outputs": [],
   "source": [
    "Member.drop_duplicates(subset='id',inplace=True)"
   ]
  },
  {
   "cell_type": "code",
   "execution_count": 91,
   "id": "69860e33-0d35-4b4b-a4e5-3347f10cfc0b",
   "metadata": {},
   "outputs": [
    {
     "data": {
      "text/plain": [
       "769"
      ]
     },
     "execution_count": 91,
     "metadata": {},
     "output_type": "execute_result"
    }
   ],
   "source": [
    "len(Member)"
   ]
  },
  {
   "cell_type": "code",
   "execution_count": 93,
   "id": "67f4985a-5035-4752-9fc2-937179d213c0",
   "metadata": {},
   "outputs": [
    {
     "data": {
      "text/html": [
       "<div>\n",
       "<style scoped>\n",
       "    .dataframe tbody tr th:only-of-type {\n",
       "        vertical-align: middle;\n",
       "    }\n",
       "\n",
       "    .dataframe tbody tr th {\n",
       "        vertical-align: top;\n",
       "    }\n",
       "\n",
       "    .dataframe thead th {\n",
       "        text-align: right;\n",
       "    }\n",
       "</style>\n",
       "<table border=\"1\" class=\"dataframe\">\n",
       "  <thead>\n",
       "    <tr style=\"text-align: right;\">\n",
       "      <th></th>\n",
       "      <th>id</th>\n",
       "      <th>name</th>\n",
       "      <th>age</th>\n",
       "      <th>level</th>\n",
       "    </tr>\n",
       "  </thead>\n",
       "  <tbody>\n",
       "    <tr>\n",
       "      <th>0</th>\n",
       "      <td>449</td>\n",
       "      <td>Paul Brewer</td>\n",
       "      <td>35</td>\n",
       "      <td>Basic</td>\n",
       "    </tr>\n",
       "    <tr>\n",
       "      <th>1</th>\n",
       "      <td>512</td>\n",
       "      <td>Scott Cooper</td>\n",
       "      <td>54</td>\n",
       "      <td>Basic</td>\n",
       "    </tr>\n",
       "    <tr>\n",
       "      <th>2</th>\n",
       "      <td>979</td>\n",
       "      <td>Nancy Mack</td>\n",
       "      <td>25</td>\n",
       "      <td>Premium</td>\n",
       "    </tr>\n",
       "  </tbody>\n",
       "</table>\n",
       "</div>"
      ],
      "text/plain": [
       "    id          name  age    level\n",
       "0  449   Paul Brewer   35    Basic\n",
       "1  512  Scott Cooper   54    Basic\n",
       "2  979    Nancy Mack   25  Premium"
      ]
     },
     "execution_count": 93,
     "metadata": {},
     "output_type": "execute_result"
    }
   ],
   "source": [
    "Member.head(3)"
   ]
  },
  {
   "cell_type": "code",
   "execution_count": 95,
   "id": "550e3deb-7d91-40ae-8a95-3386b52f0b30",
   "metadata": {},
   "outputs": [],
   "source": [
    "from sqlalchemy import create_engine"
   ]
  },
  {
   "cell_type": "code",
   "execution_count": 97,
   "id": "e5cca011-3676-4ef4-8812-a8680d9fc27e",
   "metadata": {},
   "outputs": [],
   "source": [
    "engine = create_engine('sqlite:///gym.db')"
   ]
  },
  {
   "cell_type": "code",
   "execution_count": 99,
   "id": "34d51e04-4412-4f6d-81c3-62f1cc9f693c",
   "metadata": {},
   "outputs": [
    {
     "data": {
      "text/plain": [
       "769"
      ]
     },
     "execution_count": 99,
     "metadata": {},
     "output_type": "execute_result"
    }
   ],
   "source": [
    "Member.to_sql('member', con =engine, if_exists='replace', index=False)"
   ]
  },
  {
   "cell_type": "code",
   "execution_count": 101,
   "id": "3a2bd315-6404-449e-9fb9-53683a6c2ac3",
   "metadata": {},
   "outputs": [],
   "source": [
    "engine.dispose()"
   ]
  },
  {
   "cell_type": "code",
   "execution_count": null,
   "id": "a41b2cce-7bc5-4626-9632-be5ddca05b00",
   "metadata": {},
   "outputs": [],
   "source": []
  }
 ],
 "metadata": {
  "kernelspec": {
   "display_name": "Python 3 (ipykernel)",
   "language": "python",
   "name": "python3"
  },
  "language_info": {
   "codemirror_mode": {
    "name": "ipython",
    "version": 3
   },
   "file_extension": ".py",
   "mimetype": "text/x-python",
   "name": "python",
   "nbconvert_exporter": "python",
   "pygments_lexer": "ipython3",
   "version": "3.8.18"
  }
 },
 "nbformat": 4,
 "nbformat_minor": 5
}
